{
  "nbformat": 4,
  "nbformat_minor": 0,
  "metadata": {
    "colab": {
      "name": "classes checkpoint.ipynb",
      "provenance": [],
      "collapsed_sections": []
    },
    "kernelspec": {
      "name": "python3",
      "display_name": "Python 3"
    },
    "language_info": {
      "name": "python"
    }
  },
  "cells": [
    {
      "cell_type": "code",
      "execution_count": null,
      "metadata": {
        "id": "qwxvw89j6ya9",
        "colab": {
          "base_uri": "https://localhost:8080/"
        },
        "outputId": "163f02c8-e341-4bcb-c6df-1a6fa4f6c2b3"
      },
      "outputs": [
        {
          "output_type": "execute_result",
          "data": {
            "text/plain": [
              "(1, 2, 3)"
            ]
          },
          "metadata": {},
          "execution_count": 5
        }
      ],
      "source": [
        "#q1\n",
        "class D3 ():\n",
        "  def __init__(self,x,y,z):\n",
        "    self.x = 1\n",
        "    self.y = 2\n",
        "    self.z = 3\n",
        "  def my_point(self):\n",
        "      return(self.x,self.y,self.z)\n",
        "      print(my_point())\n",
        "point_3d = D3(1,2,3)\n",
        "point_3d.my_point()"
      ]
    },
    {
      "cell_type": "code",
      "source": [
        "#q2\n",
        "class Rectangle():\n",
        "    def __init__(self, l, w):\n",
        "        self.length = l\n",
        "        self.width  = w\n",
        "\n",
        "    def rectangle_area(self):\n",
        "        return self.length*self.width\n",
        "    def rectangle_peremitre(self):\n",
        "      return (self.length+self.width)*2\n",
        "\n",
        "newRectangle = Rectangle(4, 3)\n",
        "print(newRectangle.rectangle_area())  \n",
        "print(newRectangle.rectangle_peremitre())"
      ],
      "metadata": {
        "colab": {
          "base_uri": "https://localhost:8080/"
        },
        "id": "k6bmbd1WII25",
        "outputId": "02027726-0834-43c6-981d-f257890a5e59"
      },
      "execution_count": null,
      "outputs": [
        {
          "output_type": "stream",
          "name": "stdout",
          "text": [
            "12\n",
            "14\n"
          ]
        }
      ]
    },
    {
      "cell_type": "markdown",
      "source": [
        ""
      ],
      "metadata": {
        "id": "aYFMPVr4A9I3"
      }
    },
    {
      "cell_type": "code",
      "source": [
        "#q3\n",
        "class circle ():\n",
        "  def __init__(self,o,r):\n",
        "    self.o = o\n",
        "    self.r = r\n",
        "    def circle_area(self):\n",
        "      return self.r *2*3.14*r\n",
        "      point_3d= circle (1,2)\n",
        "      point_3d.circle_area()"
      ],
      "metadata": {
        "id": "4PrP0bejXfWc"
      },
      "execution_count": 34,
      "outputs": []
    },
    {
      "cell_type": "code",
      "source": [
        "#q3\n",
        "class circle():\n",
        "  def __init__(self,o,r):\n",
        "    self.o = o\n",
        "    self.r = r\n",
        "  def circle_area(self):\n",
        "    return self.r *2*3.14*self.r\n",
        "point_3d= circle(1,2)\n",
        "point_3d.circle_area()"
      ],
      "metadata": {
        "colab": {
          "base_uri": "https://localhost:8080/"
        },
        "id": "cvr9gdY3CHz4",
        "outputId": "44175eae-021d-47c0-bab2-f713f2510f5a"
      },
      "execution_count": 18,
      "outputs": [
        {
          "output_type": "execute_result",
          "data": {
            "text/plain": [
              "25.12"
            ]
          },
          "metadata": {},
          "execution_count": 18
        }
      ]
    },
    {
      "cell_type": "code",
      "source": [
        ""
      ],
      "metadata": {
        "id": "9zcWfmuKCGR1"
      },
      "execution_count": null,
      "outputs": []
    },
    {
      "cell_type": "code",
      "source": [
        "#q4\n",
        "class bank ():\n",
        "  def __init__(self):\n",
        "    self.balance = 0\n",
        "  def deposite(self):\n",
        "    x = int(input())\n",
        "    self.balance = self.balance + x\n",
        "    return self.balance\n",
        "\n",
        "  def withdraw(self):\n",
        "    y= int(input())\n",
        "    self.balance = self.balance - y\n",
        "    return self.balance\n",
        "    \n",
        "\n",
        "\n",
        "\n",
        "\n",
        "point_3d= bank()\n",
        "point_3d.deposite()\n",
        "point_3d.withdraw()\n"
      ],
      "metadata": {
        "id": "hrsh0r1kciDv",
        "colab": {
          "base_uri": "https://localhost:8080/"
        },
        "outputId": "ede28df4-2af9-4882-b570-1a7d9ce43532"
      },
      "execution_count": 32,
      "outputs": [
        {
          "name": "stdout",
          "output_type": "stream",
          "text": [
            "200\n",
            "100\n"
          ]
        },
        {
          "output_type": "execute_result",
          "data": {
            "text/plain": [
              "100"
            ]
          },
          "metadata": {},
          "execution_count": 32
        }
      ]
    },
    {
      "cell_type": "code",
      "source": [
        ""
      ],
      "metadata": {
        "id": "MrhtRbR3HRPm"
      },
      "execution_count": null,
      "outputs": []
    }
  ]
}